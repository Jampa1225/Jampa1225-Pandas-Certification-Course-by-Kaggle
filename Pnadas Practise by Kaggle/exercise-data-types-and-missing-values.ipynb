{
 "cells": [
  {
   "cell_type": "markdown",
   "id": "48ed7fb7",
   "metadata": {
    "papermill": {
     "duration": 0.007228,
     "end_time": "2024-08-26T16:58:34.870887",
     "exception": false,
     "start_time": "2024-08-26T16:58:34.863659",
     "status": "completed"
    },
    "tags": []
   },
   "source": [
    "**This notebook is an exercise in the [Pandas](https://www.kaggle.com/learn/pandas) course.  You can reference the tutorial at [this link](https://www.kaggle.com/residentmario/data-types-and-missing-values).**\n",
    "\n",
    "---\n"
   ]
  },
  {
   "cell_type": "markdown",
   "id": "88c24397",
   "metadata": {
    "papermill": {
     "duration": 0.005892,
     "end_time": "2024-08-26T16:58:34.883427",
     "exception": false,
     "start_time": "2024-08-26T16:58:34.877535",
     "status": "completed"
    },
    "tags": []
   },
   "source": [
    "# Introduction\n",
    "\n",
    "Run the following cell to load your data and some utility functions."
   ]
  },
  {
   "cell_type": "code",
   "execution_count": 1,
   "id": "17e26fcb",
   "metadata": {
    "execution": {
     "iopub.execute_input": "2024-08-26T16:58:34.897092Z",
     "iopub.status.busy": "2024-08-26T16:58:34.896691Z",
     "iopub.status.idle": "2024-08-26T16:58:38.158782Z",
     "shell.execute_reply": "2024-08-26T16:58:38.157569Z"
    },
    "papermill": {
     "duration": 3.272262,
     "end_time": "2024-08-26T16:58:38.161725",
     "exception": false,
     "start_time": "2024-08-26T16:58:34.889463",
     "status": "completed"
    },
    "tags": []
   },
   "outputs": [
    {
     "name": "stdout",
     "output_type": "stream",
     "text": [
      "Setup complete.\n"
     ]
    }
   ],
   "source": [
    "import pandas as pd\n",
    "\n",
    "reviews = pd.read_csv(\"../input/wine-reviews/winemag-data-130k-v2.csv\", index_col=0)\n",
    "\n",
    "from learntools.core import binder; binder.bind(globals())\n",
    "from learntools.pandas.data_types_and_missing_data import *\n",
    "print(\"Setup complete.\")"
   ]
  },
  {
   "cell_type": "markdown",
   "id": "fcfbdd5d",
   "metadata": {
    "papermill": {
     "duration": 0.006391,
     "end_time": "2024-08-26T16:58:38.174654",
     "exception": false,
     "start_time": "2024-08-26T16:58:38.168263",
     "status": "completed"
    },
    "tags": []
   },
   "source": [
    "# Exercises"
   ]
  },
  {
   "cell_type": "markdown",
   "id": "ff813c6e",
   "metadata": {
    "papermill": {
     "duration": 0.005913,
     "end_time": "2024-08-26T16:58:38.186848",
     "exception": false,
     "start_time": "2024-08-26T16:58:38.180935",
     "status": "completed"
    },
    "tags": []
   },
   "source": [
    "## 1. \n",
    "What is the data type of the `points` column in the dataset?"
   ]
  },
  {
   "cell_type": "code",
   "execution_count": 2,
   "id": "eed372c7",
   "metadata": {
    "execution": {
     "iopub.execute_input": "2024-08-26T16:58:38.201432Z",
     "iopub.status.busy": "2024-08-26T16:58:38.200631Z",
     "iopub.status.idle": "2024-08-26T16:58:38.210423Z",
     "shell.execute_reply": "2024-08-26T16:58:38.209385Z"
    },
    "papermill": {
     "duration": 0.019302,
     "end_time": "2024-08-26T16:58:38.212417",
     "exception": false,
     "start_time": "2024-08-26T16:58:38.193115",
     "status": "completed"
    },
    "tags": []
   },
   "outputs": [
    {
     "data": {
      "application/javascript": [
       "parent.postMessage({\"jupyterEvent\": \"custom.exercise_interaction\", \"data\": {\"outcomeType\": 1, \"valueTowardsCompletion\": 0.25, \"interactionType\": 1, \"questionType\": 1, \"questionId\": \"1_PointsDtype\", \"learnToolsVersion\": \"0.3.4\", \"failureMessage\": \"\", \"exceptionClass\": \"\", \"trace\": \"\"}}, \"*\")"
      ],
      "text/plain": [
       "<IPython.core.display.Javascript object>"
      ]
     },
     "metadata": {},
     "output_type": "display_data"
    },
    {
     "data": {
      "text/markdown": [
       "<span style=\"color:#33cc33\">Correct</span>"
      ],
      "text/plain": [
       "Correct"
      ]
     },
     "metadata": {},
     "output_type": "display_data"
    }
   ],
   "source": [
    "# Your code here\n",
    "dtype = reviews.points.dtype\n",
    "\n",
    "# Check your answer\n",
    "q1.check()"
   ]
  },
  {
   "cell_type": "code",
   "execution_count": 3,
   "id": "1744b66e",
   "metadata": {
    "execution": {
     "iopub.execute_input": "2024-08-26T16:58:38.227400Z",
     "iopub.status.busy": "2024-08-26T16:58:38.226592Z",
     "iopub.status.idle": "2024-08-26T16:58:38.233100Z",
     "shell.execute_reply": "2024-08-26T16:58:38.232103Z"
    },
    "papermill": {
     "duration": 0.016057,
     "end_time": "2024-08-26T16:58:38.235078",
     "exception": false,
     "start_time": "2024-08-26T16:58:38.219021",
     "status": "completed"
    },
    "tags": []
   },
   "outputs": [
    {
     "data": {
      "text/plain": [
       "dtype('int64')"
      ]
     },
     "execution_count": 3,
     "metadata": {},
     "output_type": "execute_result"
    }
   ],
   "source": [
    "dtype"
   ]
  },
  {
   "cell_type": "code",
   "execution_count": 4,
   "id": "be35283a",
   "metadata": {
    "execution": {
     "iopub.execute_input": "2024-08-26T16:58:38.250088Z",
     "iopub.status.busy": "2024-08-26T16:58:38.249376Z",
     "iopub.status.idle": "2024-08-26T16:58:38.260994Z",
     "shell.execute_reply": "2024-08-26T16:58:38.260053Z"
    },
    "papermill": {
     "duration": 0.021225,
     "end_time": "2024-08-26T16:58:38.262907",
     "exception": false,
     "start_time": "2024-08-26T16:58:38.241682",
     "status": "completed"
    },
    "tags": []
   },
   "outputs": [
    {
     "data": {
      "application/javascript": [
       "parent.postMessage({\"jupyterEvent\": \"custom.exercise_interaction\", \"data\": {\"interactionType\": 2, \"questionType\": 1, \"questionId\": \"1_PointsDtype\", \"learnToolsVersion\": \"0.3.4\", \"valueTowardsCompletion\": 0.0, \"failureMessage\": \"\", \"exceptionClass\": \"\", \"trace\": \"\", \"outcomeType\": 4}}, \"*\")"
      ],
      "text/plain": [
       "<IPython.core.display.Javascript object>"
      ]
     },
     "metadata": {},
     "output_type": "display_data"
    },
    {
     "data": {
      "text/markdown": [
       "<span style=\"color:#3366cc\">Hint:</span> `dtype` is an attribute of a DataFrame or Series."
      ],
      "text/plain": [
       "Hint: `dtype` is an attribute of a DataFrame or Series."
      ]
     },
     "metadata": {},
     "output_type": "display_data"
    },
    {
     "data": {
      "application/javascript": [
       "parent.postMessage({\"jupyterEvent\": \"custom.exercise_interaction\", \"data\": {\"interactionType\": 3, \"questionType\": 1, \"questionId\": \"1_PointsDtype\", \"learnToolsVersion\": \"0.3.4\", \"valueTowardsCompletion\": 0.0, \"failureMessage\": \"\", \"exceptionClass\": \"\", \"trace\": \"\", \"outcomeType\": 4}}, \"*\")"
      ],
      "text/plain": [
       "<IPython.core.display.Javascript object>"
      ]
     },
     "metadata": {},
     "output_type": "display_data"
    },
    {
     "data": {
      "text/markdown": [
       "<span style=\"color:#33cc99\">Solution:</span> \n",
       "```python\n",
       "dtype = reviews.points.dtype\n",
       "```"
      ],
      "text/plain": [
       "Solution: \n",
       "```python\n",
       "dtype = reviews.points.dtype\n",
       "```"
      ]
     },
     "metadata": {},
     "output_type": "display_data"
    }
   ],
   "source": [
    "q1.hint()\n",
    "q1.solution()"
   ]
  },
  {
   "cell_type": "markdown",
   "id": "f331b36f",
   "metadata": {
    "papermill": {
     "duration": 0.006868,
     "end_time": "2024-08-26T16:58:38.276811",
     "exception": false,
     "start_time": "2024-08-26T16:58:38.269943",
     "status": "completed"
    },
    "tags": []
   },
   "source": [
    "## 2. \n",
    "Create a Series from entries in the `points` column, but convert the entries to strings. Hint: strings are `str` in native Python."
   ]
  },
  {
   "cell_type": "code",
   "execution_count": 5,
   "id": "cae6e6d0",
   "metadata": {
    "execution": {
     "iopub.execute_input": "2024-08-26T16:58:38.292863Z",
     "iopub.status.busy": "2024-08-26T16:58:38.292148Z",
     "iopub.status.idle": "2024-08-26T16:58:38.335012Z",
     "shell.execute_reply": "2024-08-26T16:58:38.334034Z"
    },
    "papermill": {
     "duration": 0.053539,
     "end_time": "2024-08-26T16:58:38.337376",
     "exception": false,
     "start_time": "2024-08-26T16:58:38.283837",
     "status": "completed"
    },
    "tags": []
   },
   "outputs": [
    {
     "data": {
      "application/javascript": [
       "parent.postMessage({\"jupyterEvent\": \"custom.exercise_interaction\", \"data\": {\"outcomeType\": 1, \"valueTowardsCompletion\": 0.25, \"interactionType\": 1, \"questionType\": 1, \"questionId\": \"2_StrPoints\", \"learnToolsVersion\": \"0.3.4\", \"failureMessage\": \"\", \"exceptionClass\": \"\", \"trace\": \"\"}}, \"*\")"
      ],
      "text/plain": [
       "<IPython.core.display.Javascript object>"
      ]
     },
     "metadata": {},
     "output_type": "display_data"
    },
    {
     "data": {
      "text/markdown": [
       "<span style=\"color:#33cc33\">Correct</span>"
      ],
      "text/plain": [
       "Correct"
      ]
     },
     "metadata": {},
     "output_type": "display_data"
    }
   ],
   "source": [
    "# As per the dtype of points - we knew above - it is 'int' type\n",
    "point_strings = reviews.points.astype('str')\n",
    "\n",
    "# Check your answer\n",
    "q2.check()"
   ]
  },
  {
   "cell_type": "code",
   "execution_count": 6,
   "id": "108a2e5f",
   "metadata": {
    "execution": {
     "iopub.execute_input": "2024-08-26T16:58:38.353682Z",
     "iopub.status.busy": "2024-08-26T16:58:38.352934Z",
     "iopub.status.idle": "2024-08-26T16:58:38.364490Z",
     "shell.execute_reply": "2024-08-26T16:58:38.363542Z"
    },
    "papermill": {
     "duration": 0.022032,
     "end_time": "2024-08-26T16:58:38.366568",
     "exception": false,
     "start_time": "2024-08-26T16:58:38.344536",
     "status": "completed"
    },
    "tags": []
   },
   "outputs": [
    {
     "data": {
      "application/javascript": [
       "parent.postMessage({\"jupyterEvent\": \"custom.exercise_interaction\", \"data\": {\"interactionType\": 2, \"questionType\": 1, \"questionId\": \"2_StrPoints\", \"learnToolsVersion\": \"0.3.4\", \"valueTowardsCompletion\": 0.0, \"failureMessage\": \"\", \"exceptionClass\": \"\", \"trace\": \"\", \"outcomeType\": 4}}, \"*\")"
      ],
      "text/plain": [
       "<IPython.core.display.Javascript object>"
      ]
     },
     "metadata": {},
     "output_type": "display_data"
    },
    {
     "data": {
      "text/markdown": [
       "<span style=\"color:#3366cc\">Hint:</span> Convert a column of one type to another by using the `astype` function."
      ],
      "text/plain": [
       "Hint: Convert a column of one type to another by using the `astype` function."
      ]
     },
     "metadata": {},
     "output_type": "display_data"
    },
    {
     "data": {
      "application/javascript": [
       "parent.postMessage({\"jupyterEvent\": \"custom.exercise_interaction\", \"data\": {\"interactionType\": 3, \"questionType\": 1, \"questionId\": \"2_StrPoints\", \"learnToolsVersion\": \"0.3.4\", \"valueTowardsCompletion\": 0.0, \"failureMessage\": \"\", \"exceptionClass\": \"\", \"trace\": \"\", \"outcomeType\": 4}}, \"*\")"
      ],
      "text/plain": [
       "<IPython.core.display.Javascript object>"
      ]
     },
     "metadata": {},
     "output_type": "display_data"
    },
    {
     "data": {
      "text/markdown": [
       "<span style=\"color:#33cc99\">Solution:</span> \n",
       "```python\n",
       "point_strings = reviews.points.astype(str)\n",
       "```"
      ],
      "text/plain": [
       "Solution: \n",
       "```python\n",
       "point_strings = reviews.points.astype(str)\n",
       "```"
      ]
     },
     "metadata": {},
     "output_type": "display_data"
    }
   ],
   "source": [
    "q2.hint()\n",
    "q2.solution()"
   ]
  },
  {
   "cell_type": "markdown",
   "id": "edb9eb86",
   "metadata": {
    "papermill": {
     "duration": 0.007562,
     "end_time": "2024-08-26T16:58:38.383270",
     "exception": false,
     "start_time": "2024-08-26T16:58:38.375708",
     "status": "completed"
    },
    "tags": []
   },
   "source": [
    "## 3.\n",
    "Sometimes the price column is null. How many reviews in the dataset are missing a price?"
   ]
  },
  {
   "cell_type": "code",
   "execution_count": 7,
   "id": "32c570e3",
   "metadata": {
    "execution": {
     "iopub.execute_input": "2024-08-26T16:58:38.400331Z",
     "iopub.status.busy": "2024-08-26T16:58:38.399933Z",
     "iopub.status.idle": "2024-08-26T16:58:38.408893Z",
     "shell.execute_reply": "2024-08-26T16:58:38.407970Z"
    },
    "papermill": {
     "duration": 0.020067,
     "end_time": "2024-08-26T16:58:38.410948",
     "exception": false,
     "start_time": "2024-08-26T16:58:38.390881",
     "status": "completed"
    },
    "tags": []
   },
   "outputs": [
    {
     "data": {
      "application/javascript": [
       "parent.postMessage({\"jupyterEvent\": \"custom.exercise_interaction\", \"data\": {\"outcomeType\": 1, \"valueTowardsCompletion\": 0.25, \"interactionType\": 1, \"questionType\": 1, \"questionId\": \"3_CountMissingPrices\", \"learnToolsVersion\": \"0.3.4\", \"failureMessage\": \"\", \"exceptionClass\": \"\", \"trace\": \"\"}}, \"*\")"
      ],
      "text/plain": [
       "<IPython.core.display.Javascript object>"
      ]
     },
     "metadata": {},
     "output_type": "display_data"
    },
    {
     "data": {
      "text/markdown": [
       "<span style=\"color:#33cc33\">Correct</span>"
      ],
      "text/plain": [
       "Correct"
      ]
     },
     "metadata": {},
     "output_type": "display_data"
    }
   ],
   "source": [
    "n_missing_prices = reviews.price.isnull().sum()\n",
    "\n",
    "# Check your answer\n",
    "q3.check()"
   ]
  },
  {
   "cell_type": "code",
   "execution_count": 8,
   "id": "3538bade",
   "metadata": {
    "execution": {
     "iopub.execute_input": "2024-08-26T16:58:38.428326Z",
     "iopub.status.busy": "2024-08-26T16:58:38.427922Z",
     "iopub.status.idle": "2024-08-26T16:58:38.434090Z",
     "shell.execute_reply": "2024-08-26T16:58:38.433155Z"
    },
    "papermill": {
     "duration": 0.017152,
     "end_time": "2024-08-26T16:58:38.436037",
     "exception": false,
     "start_time": "2024-08-26T16:58:38.418885",
     "status": "completed"
    },
    "tags": []
   },
   "outputs": [
    {
     "data": {
      "text/plain": [
       "8996"
      ]
     },
     "execution_count": 8,
     "metadata": {},
     "output_type": "execute_result"
    }
   ],
   "source": [
    "n_missing_prices"
   ]
  },
  {
   "cell_type": "code",
   "execution_count": 9,
   "id": "9eb724dd",
   "metadata": {
    "execution": {
     "iopub.execute_input": "2024-08-26T16:58:38.454325Z",
     "iopub.status.busy": "2024-08-26T16:58:38.453444Z",
     "iopub.status.idle": "2024-08-26T16:58:38.465489Z",
     "shell.execute_reply": "2024-08-26T16:58:38.464523Z"
    },
    "papermill": {
     "duration": 0.023416,
     "end_time": "2024-08-26T16:58:38.467563",
     "exception": false,
     "start_time": "2024-08-26T16:58:38.444147",
     "status": "completed"
    },
    "tags": []
   },
   "outputs": [
    {
     "data": {
      "application/javascript": [
       "parent.postMessage({\"jupyterEvent\": \"custom.exercise_interaction\", \"data\": {\"interactionType\": 2, \"questionType\": 1, \"questionId\": \"3_CountMissingPrices\", \"learnToolsVersion\": \"0.3.4\", \"valueTowardsCompletion\": 0.0, \"failureMessage\": \"\", \"exceptionClass\": \"\", \"trace\": \"\", \"outcomeType\": 4}}, \"*\")"
      ],
      "text/plain": [
       "<IPython.core.display.Javascript object>"
      ]
     },
     "metadata": {},
     "output_type": "display_data"
    },
    {
     "data": {
      "text/markdown": [
       "<span style=\"color:#3366cc\">Hint:</span> Use `pd.isnull()`."
      ],
      "text/plain": [
       "Hint: Use `pd.isnull()`."
      ]
     },
     "metadata": {},
     "output_type": "display_data"
    },
    {
     "data": {
      "application/javascript": [
       "parent.postMessage({\"jupyterEvent\": \"custom.exercise_interaction\", \"data\": {\"interactionType\": 3, \"questionType\": 1, \"questionId\": \"3_CountMissingPrices\", \"learnToolsVersion\": \"0.3.4\", \"valueTowardsCompletion\": 0.0, \"failureMessage\": \"\", \"exceptionClass\": \"\", \"trace\": \"\", \"outcomeType\": 4}}, \"*\")"
      ],
      "text/plain": [
       "<IPython.core.display.Javascript object>"
      ]
     },
     "metadata": {},
     "output_type": "display_data"
    },
    {
     "data": {
      "text/markdown": [
       "<span style=\"color:#33cc99\">Solution:</span> \n",
       "```python\n",
       "missing_price_reviews = reviews[reviews.price.isnull()]\n",
       "n_missing_prices = len(missing_price_reviews)\n",
       "# Cute alternative solution: if we sum a boolean series, True is treated as 1 and False as 0\n",
       "n_missing_prices = reviews.price.isnull().sum()\n",
       "# or equivalently:\n",
       "n_missing_prices = pd.isnull(reviews.price).sum()\n",
       "\n",
       "```"
      ],
      "text/plain": [
       "Solution: \n",
       "```python\n",
       "missing_price_reviews = reviews[reviews.price.isnull()]\n",
       "n_missing_prices = len(missing_price_reviews)\n",
       "# Cute alternative solution: if we sum a boolean series, True is treated as 1 and False as 0\n",
       "n_missing_prices = reviews.price.isnull().sum()\n",
       "# or equivalently:\n",
       "n_missing_prices = pd.isnull(reviews.price).sum()\n",
       "\n",
       "```"
      ]
     },
     "metadata": {},
     "output_type": "display_data"
    }
   ],
   "source": [
    "q3.hint()\n",
    "q3.solution()"
   ]
  },
  {
   "cell_type": "markdown",
   "id": "39c067cc",
   "metadata": {
    "papermill": {
     "duration": 0.008316,
     "end_time": "2024-08-26T16:58:38.484450",
     "exception": false,
     "start_time": "2024-08-26T16:58:38.476134",
     "status": "completed"
    },
    "tags": []
   },
   "source": [
    "## 4.\n",
    "What are the most common wine-producing regions? Create a Series counting the number of times each value occurs in the `region_1` field. This field is often missing data, so replace missing values with `Unknown`. Sort in descending order.  Your output should look something like this:\n",
    "\n",
    "```\n",
    "Unknown                    21247\n",
    "Napa Valley                 4480\n",
    "                           ...  \n",
    "Bardolino Superiore            1\n",
    "Primitivo del Tarantino        1\n",
    "Name: region_1, Length: 1230, dtype: int64\n",
    "```"
   ]
  },
  {
   "cell_type": "code",
   "execution_count": 10,
   "id": "0f6278a9",
   "metadata": {
    "execution": {
     "iopub.execute_input": "2024-08-26T16:58:38.503610Z",
     "iopub.status.busy": "2024-08-26T16:58:38.502700Z",
     "iopub.status.idle": "2024-08-26T16:58:38.523606Z",
     "shell.execute_reply": "2024-08-26T16:58:38.522618Z"
    },
    "papermill": {
     "duration": 0.032942,
     "end_time": "2024-08-26T16:58:38.525944",
     "exception": false,
     "start_time": "2024-08-26T16:58:38.493002",
     "status": "completed"
    },
    "tags": []
   },
   "outputs": [
    {
     "data": {
      "text/html": [
       "<div>\n",
       "<style scoped>\n",
       "    .dataframe tbody tr th:only-of-type {\n",
       "        vertical-align: middle;\n",
       "    }\n",
       "\n",
       "    .dataframe tbody tr th {\n",
       "        vertical-align: top;\n",
       "    }\n",
       "\n",
       "    .dataframe thead th {\n",
       "        text-align: right;\n",
       "    }\n",
       "</style>\n",
       "<table border=\"1\" class=\"dataframe\">\n",
       "  <thead>\n",
       "    <tr style=\"text-align: right;\">\n",
       "      <th></th>\n",
       "      <th>country</th>\n",
       "      <th>description</th>\n",
       "      <th>designation</th>\n",
       "      <th>points</th>\n",
       "      <th>price</th>\n",
       "      <th>province</th>\n",
       "      <th>region_1</th>\n",
       "      <th>region_2</th>\n",
       "      <th>taster_name</th>\n",
       "      <th>taster_twitter_handle</th>\n",
       "      <th>title</th>\n",
       "      <th>variety</th>\n",
       "      <th>winery</th>\n",
       "    </tr>\n",
       "  </thead>\n",
       "  <tbody>\n",
       "    <tr>\n",
       "      <th>0</th>\n",
       "      <td>Italy</td>\n",
       "      <td>Aromas include tropical fruit, broom, brimston...</td>\n",
       "      <td>Vulkà Bianco</td>\n",
       "      <td>87</td>\n",
       "      <td>NaN</td>\n",
       "      <td>Sicily &amp; Sardinia</td>\n",
       "      <td>Etna</td>\n",
       "      <td>NaN</td>\n",
       "      <td>Kerin O’Keefe</td>\n",
       "      <td>@kerinokeefe</td>\n",
       "      <td>Nicosia 2013 Vulkà Bianco  (Etna)</td>\n",
       "      <td>White Blend</td>\n",
       "      <td>Nicosia</td>\n",
       "    </tr>\n",
       "    <tr>\n",
       "      <th>1</th>\n",
       "      <td>Portugal</td>\n",
       "      <td>This is ripe and fruity, a wine that is smooth...</td>\n",
       "      <td>Avidagos</td>\n",
       "      <td>87</td>\n",
       "      <td>15.0</td>\n",
       "      <td>Douro</td>\n",
       "      <td>NaN</td>\n",
       "      <td>NaN</td>\n",
       "      <td>Roger Voss</td>\n",
       "      <td>@vossroger</td>\n",
       "      <td>Quinta dos Avidagos 2011 Avidagos Red (Douro)</td>\n",
       "      <td>Portuguese Red</td>\n",
       "      <td>Quinta dos Avidagos</td>\n",
       "    </tr>\n",
       "    <tr>\n",
       "      <th>2</th>\n",
       "      <td>US</td>\n",
       "      <td>Tart and snappy, the flavors of lime flesh and...</td>\n",
       "      <td>NaN</td>\n",
       "      <td>87</td>\n",
       "      <td>14.0</td>\n",
       "      <td>Oregon</td>\n",
       "      <td>Willamette Valley</td>\n",
       "      <td>Willamette Valley</td>\n",
       "      <td>Paul Gregutt</td>\n",
       "      <td>@paulgwine</td>\n",
       "      <td>Rainstorm 2013 Pinot Gris (Willamette Valley)</td>\n",
       "      <td>Pinot Gris</td>\n",
       "      <td>Rainstorm</td>\n",
       "    </tr>\n",
       "    <tr>\n",
       "      <th>3</th>\n",
       "      <td>US</td>\n",
       "      <td>Pineapple rind, lemon pith and orange blossom ...</td>\n",
       "      <td>Reserve Late Harvest</td>\n",
       "      <td>87</td>\n",
       "      <td>13.0</td>\n",
       "      <td>Michigan</td>\n",
       "      <td>Lake Michigan Shore</td>\n",
       "      <td>NaN</td>\n",
       "      <td>Alexander Peartree</td>\n",
       "      <td>NaN</td>\n",
       "      <td>St. Julian 2013 Reserve Late Harvest Riesling ...</td>\n",
       "      <td>Riesling</td>\n",
       "      <td>St. Julian</td>\n",
       "    </tr>\n",
       "    <tr>\n",
       "      <th>4</th>\n",
       "      <td>US</td>\n",
       "      <td>Much like the regular bottling from 2012, this...</td>\n",
       "      <td>Vintner's Reserve Wild Child Block</td>\n",
       "      <td>87</td>\n",
       "      <td>65.0</td>\n",
       "      <td>Oregon</td>\n",
       "      <td>Willamette Valley</td>\n",
       "      <td>Willamette Valley</td>\n",
       "      <td>Paul Gregutt</td>\n",
       "      <td>@paulgwine</td>\n",
       "      <td>Sweet Cheeks 2012 Vintner's Reserve Wild Child...</td>\n",
       "      <td>Pinot Noir</td>\n",
       "      <td>Sweet Cheeks</td>\n",
       "    </tr>\n",
       "  </tbody>\n",
       "</table>\n",
       "</div>"
      ],
      "text/plain": [
       "    country                                        description  \\\n",
       "0     Italy  Aromas include tropical fruit, broom, brimston...   \n",
       "1  Portugal  This is ripe and fruity, a wine that is smooth...   \n",
       "2        US  Tart and snappy, the flavors of lime flesh and...   \n",
       "3        US  Pineapple rind, lemon pith and orange blossom ...   \n",
       "4        US  Much like the regular bottling from 2012, this...   \n",
       "\n",
       "                          designation  points  price           province  \\\n",
       "0                        Vulkà Bianco      87    NaN  Sicily & Sardinia   \n",
       "1                            Avidagos      87   15.0              Douro   \n",
       "2                                 NaN      87   14.0             Oregon   \n",
       "3                Reserve Late Harvest      87   13.0           Michigan   \n",
       "4  Vintner's Reserve Wild Child Block      87   65.0             Oregon   \n",
       "\n",
       "              region_1           region_2         taster_name  \\\n",
       "0                 Etna                NaN       Kerin O’Keefe   \n",
       "1                  NaN                NaN          Roger Voss   \n",
       "2    Willamette Valley  Willamette Valley        Paul Gregutt   \n",
       "3  Lake Michigan Shore                NaN  Alexander Peartree   \n",
       "4    Willamette Valley  Willamette Valley        Paul Gregutt   \n",
       "\n",
       "  taster_twitter_handle                                              title  \\\n",
       "0          @kerinokeefe                  Nicosia 2013 Vulkà Bianco  (Etna)   \n",
       "1            @vossroger      Quinta dos Avidagos 2011 Avidagos Red (Douro)   \n",
       "2           @paulgwine       Rainstorm 2013 Pinot Gris (Willamette Valley)   \n",
       "3                   NaN  St. Julian 2013 Reserve Late Harvest Riesling ...   \n",
       "4           @paulgwine   Sweet Cheeks 2012 Vintner's Reserve Wild Child...   \n",
       "\n",
       "          variety               winery  \n",
       "0     White Blend              Nicosia  \n",
       "1  Portuguese Red  Quinta dos Avidagos  \n",
       "2      Pinot Gris            Rainstorm  \n",
       "3        Riesling           St. Julian  \n",
       "4      Pinot Noir         Sweet Cheeks  "
      ]
     },
     "execution_count": 10,
     "metadata": {},
     "output_type": "execute_result"
    }
   ],
   "source": [
    "reviews.head()"
   ]
  },
  {
   "cell_type": "code",
   "execution_count": 11,
   "id": "5fa6ecf8",
   "metadata": {
    "execution": {
     "iopub.execute_input": "2024-08-26T16:58:38.546231Z",
     "iopub.status.busy": "2024-08-26T16:58:38.545824Z",
     "iopub.status.idle": "2024-08-26T16:58:38.559077Z",
     "shell.execute_reply": "2024-08-26T16:58:38.558086Z"
    },
    "papermill": {
     "duration": 0.026049,
     "end_time": "2024-08-26T16:58:38.561235",
     "exception": false,
     "start_time": "2024-08-26T16:58:38.535186",
     "status": "completed"
    },
    "tags": []
   },
   "outputs": [
    {
     "data": {
      "text/plain": [
       "21247"
      ]
     },
     "execution_count": 11,
     "metadata": {},
     "output_type": "execute_result"
    }
   ],
   "source": [
    "reviews.region_1.isnull().sum()"
   ]
  },
  {
   "cell_type": "code",
   "execution_count": 12,
   "id": "0391bebc",
   "metadata": {
    "execution": {
     "iopub.execute_input": "2024-08-26T16:58:38.581929Z",
     "iopub.status.busy": "2024-08-26T16:58:38.581153Z",
     "iopub.status.idle": "2024-08-26T16:58:38.602205Z",
     "shell.execute_reply": "2024-08-26T16:58:38.601236Z"
    },
    "papermill": {
     "duration": 0.033969,
     "end_time": "2024-08-26T16:58:38.604525",
     "exception": false,
     "start_time": "2024-08-26T16:58:38.570556",
     "status": "completed"
    },
    "tags": []
   },
   "outputs": [
    {
     "data": {
      "text/plain": [
       "region_1\n",
       "Napa Valley                4480\n",
       "Columbia Valley (WA)       4124\n",
       "Russian River Valley       3091\n",
       "California                 2629\n",
       "Paso Robles                2350\n",
       "                           ... \n",
       "Lamezia                       1\n",
       "Trentino Superiore            1\n",
       "Grave del Friuli              1\n",
       "Vin Santo di Carmignano       1\n",
       "Paestum                       1\n",
       "Name: count, Length: 1229, dtype: int64"
      ]
     },
     "execution_count": 12,
     "metadata": {},
     "output_type": "execute_result"
    }
   ],
   "source": [
    "reviews.region_1.value_counts()"
   ]
  },
  {
   "cell_type": "code",
   "execution_count": 13,
   "id": "245a9aa6",
   "metadata": {
    "execution": {
     "iopub.execute_input": "2024-08-26T16:58:38.624855Z",
     "iopub.status.busy": "2024-08-26T16:58:38.624472Z",
     "iopub.status.idle": "2024-08-26T16:58:38.637234Z",
     "shell.execute_reply": "2024-08-26T16:58:38.636154Z"
    },
    "papermill": {
     "duration": 0.025287,
     "end_time": "2024-08-26T16:58:38.639202",
     "exception": false,
     "start_time": "2024-08-26T16:58:38.613915",
     "status": "completed"
    },
    "tags": []
   },
   "outputs": [
    {
     "data": {
      "text/plain": [
       "array(['Etna', nan, 'Willamette Valley', ..., 'Del Veneto',\n",
       "       'Bardolino Superiore', 'Paestum'], dtype=object)"
      ]
     },
     "execution_count": 13,
     "metadata": {},
     "output_type": "execute_result"
    }
   ],
   "source": [
    "reviews.region_1.unique()"
   ]
  },
  {
   "cell_type": "code",
   "execution_count": 14,
   "id": "415eaccb",
   "metadata": {
    "execution": {
     "iopub.execute_input": "2024-08-26T16:58:38.659946Z",
     "iopub.status.busy": "2024-08-26T16:58:38.658998Z",
     "iopub.status.idle": "2024-08-26T16:58:38.706898Z",
     "shell.execute_reply": "2024-08-26T16:58:38.705942Z"
    },
    "papermill": {
     "duration": 0.060323,
     "end_time": "2024-08-26T16:58:38.708896",
     "exception": false,
     "start_time": "2024-08-26T16:58:38.648573",
     "status": "completed"
    },
    "tags": []
   },
   "outputs": [
    {
     "data": {
      "application/javascript": [
       "parent.postMessage({\"jupyterEvent\": \"custom.exercise_interaction\", \"data\": {\"outcomeType\": 1, \"valueTowardsCompletion\": 0.25, \"interactionType\": 1, \"questionType\": 2, \"questionId\": \"4_ReviewsPerRegion\", \"learnToolsVersion\": \"0.3.4\", \"failureMessage\": \"\", \"exceptionClass\": \"\", \"trace\": \"\"}}, \"*\")"
      ],
      "text/plain": [
       "<IPython.core.display.Javascript object>"
      ]
     },
     "metadata": {},
     "output_type": "display_data"
    },
    {
     "data": {
      "text/markdown": [
       "<span style=\"color:#33cc33\">Correct</span>"
      ],
      "text/plain": [
       "Correct"
      ]
     },
     "metadata": {},
     "output_type": "display_data"
    }
   ],
   "source": [
    "\n",
    "reviews_per_region = reviews.region_1.fillna('unknown').value_counts().sort_values(ascending=False)\n",
    "\n",
    "# Check your answer\n",
    "q4.check()"
   ]
  },
  {
   "cell_type": "code",
   "execution_count": 15,
   "id": "6e17a6b5",
   "metadata": {
    "execution": {
     "iopub.execute_input": "2024-08-26T16:58:38.730032Z",
     "iopub.status.busy": "2024-08-26T16:58:38.729108Z",
     "iopub.status.idle": "2024-08-26T16:58:38.737151Z",
     "shell.execute_reply": "2024-08-26T16:58:38.736245Z"
    },
    "papermill": {
     "duration": 0.020866,
     "end_time": "2024-08-26T16:58:38.739335",
     "exception": false,
     "start_time": "2024-08-26T16:58:38.718469",
     "status": "completed"
    },
    "tags": []
   },
   "outputs": [
    {
     "data": {
      "text/plain": [
       "region_1\n",
       "unknown                 21247\n",
       "Napa Valley              4480\n",
       "Columbia Valley (WA)     4124\n",
       "Russian River Valley     3091\n",
       "California               2629\n",
       "                        ...  \n",
       "Offida Rosso                1\n",
       "Corton Perrières            1\n",
       "Isle St. George             1\n",
       "Geelong                     1\n",
       "Paestum                     1\n",
       "Name: count, Length: 1230, dtype: int64"
      ]
     },
     "execution_count": 15,
     "metadata": {},
     "output_type": "execute_result"
    }
   ],
   "source": [
    "reviews_per_region"
   ]
  },
  {
   "cell_type": "code",
   "execution_count": 16,
   "id": "485bf7cb",
   "metadata": {
    "execution": {
     "iopub.execute_input": "2024-08-26T16:58:38.760945Z",
     "iopub.status.busy": "2024-08-26T16:58:38.760055Z",
     "iopub.status.idle": "2024-08-26T16:58:38.764379Z",
     "shell.execute_reply": "2024-08-26T16:58:38.763453Z"
    },
    "papermill": {
     "duration": 0.017057,
     "end_time": "2024-08-26T16:58:38.766366",
     "exception": false,
     "start_time": "2024-08-26T16:58:38.749309",
     "status": "completed"
    },
    "tags": []
   },
   "outputs": [],
   "source": [
    "# df = reviews_per_region.reset_index()\n",
    "# df.columns = ['region', 'count']\n",
    "# df"
   ]
  },
  {
   "cell_type": "code",
   "execution_count": 17,
   "id": "b05e9e32",
   "metadata": {
    "execution": {
     "iopub.execute_input": "2024-08-26T16:58:38.787287Z",
     "iopub.status.busy": "2024-08-26T16:58:38.786882Z",
     "iopub.status.idle": "2024-08-26T16:58:38.792868Z",
     "shell.execute_reply": "2024-08-26T16:58:38.791881Z"
    },
    "papermill": {
     "duration": 0.018867,
     "end_time": "2024-08-26T16:58:38.794922",
     "exception": false,
     "start_time": "2024-08-26T16:58:38.776055",
     "status": "completed"
    },
    "tags": []
   },
   "outputs": [],
   "source": [
    "unique_regions = reviews_per_region.unique()"
   ]
  },
  {
   "cell_type": "code",
   "execution_count": 18,
   "id": "4b52babc",
   "metadata": {
    "execution": {
     "iopub.execute_input": "2024-08-26T16:58:38.816129Z",
     "iopub.status.busy": "2024-08-26T16:58:38.815755Z",
     "iopub.status.idle": "2024-08-26T16:58:38.820078Z",
     "shell.execute_reply": "2024-08-26T16:58:38.819103Z"
    },
    "papermill": {
     "duration": 0.017095,
     "end_time": "2024-08-26T16:58:38.822130",
     "exception": false,
     "start_time": "2024-08-26T16:58:38.805035",
     "status": "completed"
    },
    "tags": []
   },
   "outputs": [],
   "source": [
    "# print(unique_regions)"
   ]
  },
  {
   "cell_type": "code",
   "execution_count": 19,
   "id": "e637b4e5",
   "metadata": {
    "execution": {
     "iopub.execute_input": "2024-08-26T16:58:38.843129Z",
     "iopub.status.busy": "2024-08-26T16:58:38.842345Z",
     "iopub.status.idle": "2024-08-26T16:58:38.853965Z",
     "shell.execute_reply": "2024-08-26T16:58:38.852941Z"
    },
    "papermill": {
     "duration": 0.0241,
     "end_time": "2024-08-26T16:58:38.855903",
     "exception": false,
     "start_time": "2024-08-26T16:58:38.831803",
     "status": "completed"
    },
    "tags": []
   },
   "outputs": [
    {
     "data": {
      "application/javascript": [
       "parent.postMessage({\"jupyterEvent\": \"custom.exercise_interaction\", \"data\": {\"interactionType\": 2, \"questionType\": 2, \"questionId\": \"4_ReviewsPerRegion\", \"learnToolsVersion\": \"0.3.4\", \"valueTowardsCompletion\": 0.0, \"failureMessage\": \"\", \"exceptionClass\": \"\", \"trace\": \"\", \"outcomeType\": 4}}, \"*\")"
      ],
      "text/plain": [
       "<IPython.core.display.Javascript object>"
      ]
     },
     "metadata": {},
     "output_type": "display_data"
    },
    {
     "data": {
      "text/markdown": [
       "<span style=\"color:#3366cc\">Hint:</span> Use `fillna()`, `value_counts()`, and `sort_values()`."
      ],
      "text/plain": [
       "Hint: Use `fillna()`, `value_counts()`, and `sort_values()`."
      ]
     },
     "metadata": {},
     "output_type": "display_data"
    },
    {
     "data": {
      "application/javascript": [
       "parent.postMessage({\"jupyterEvent\": \"custom.exercise_interaction\", \"data\": {\"interactionType\": 3, \"questionType\": 2, \"questionId\": \"4_ReviewsPerRegion\", \"learnToolsVersion\": \"0.3.4\", \"valueTowardsCompletion\": 0.0, \"failureMessage\": \"\", \"exceptionClass\": \"\", \"trace\": \"\", \"outcomeType\": 4}}, \"*\")"
      ],
      "text/plain": [
       "<IPython.core.display.Javascript object>"
      ]
     },
     "metadata": {},
     "output_type": "display_data"
    },
    {
     "data": {
      "text/markdown": [
       "<span style=\"color:#33cc99\">Solution:</span> \n",
       "```python\n",
       "reviews_per_region = reviews.region_1.fillna('Unknown').value_counts().sort_values(ascending=False)\n",
       "```"
      ],
      "text/plain": [
       "Solution: \n",
       "```python\n",
       "reviews_per_region = reviews.region_1.fillna('Unknown').value_counts().sort_values(ascending=False)\n",
       "```"
      ]
     },
     "metadata": {},
     "output_type": "display_data"
    }
   ],
   "source": [
    "q4.hint()\n",
    "q4.solution()"
   ]
  },
  {
   "cell_type": "markdown",
   "id": "552af8e3",
   "metadata": {
    "papermill": {
     "duration": 0.009671,
     "end_time": "2024-08-26T16:58:38.875817",
     "exception": false,
     "start_time": "2024-08-26T16:58:38.866146",
     "status": "completed"
    },
    "tags": []
   },
   "source": [
    "# Keep going\n",
    "\n",
    "Move on to **[renaming and combining](https://www.kaggle.com/residentmario/renaming-and-combining)**."
   ]
  },
  {
   "cell_type": "markdown",
   "id": "00694c6a",
   "metadata": {
    "papermill": {
     "duration": 0.009628,
     "end_time": "2024-08-26T16:58:38.895486",
     "exception": false,
     "start_time": "2024-08-26T16:58:38.885858",
     "status": "completed"
    },
    "tags": []
   },
   "source": [
    "---\n",
    "\n",
    "\n",
    "\n",
    "\n",
    "*Have questions or comments? Visit the [course discussion forum](https://www.kaggle.com/learn/pandas/discussion) to chat with other learners.*"
   ]
  }
 ],
 "metadata": {
  "kaggle": {
   "accelerator": "none",
   "dataSources": [
    {
     "datasetId": 655,
     "sourceId": 1252,
     "sourceType": "datasetVersion"
    },
    {
     "datasetId": 2321,
     "sourceId": 3919,
     "sourceType": "datasetVersion"
    },
    {
     "datasetId": 2894,
     "sourceId": 4877,
     "sourceType": "datasetVersion"
    },
    {
     "datasetId": 3491,
     "sourceId": 5624,
     "sourceType": "datasetVersion"
    },
    {
     "datasetId": 1442,
     "sourceId": 8172,
     "sourceType": "datasetVersion"
    },
    {
     "datasetId": 9366,
     "sourceId": 13206,
     "sourceType": "datasetVersion"
    },
    {
     "datasetId": 179555,
     "sourceId": 403916,
     "sourceType": "datasetVersion"
    },
    {
     "datasetId": 4549,
     "sourceId": 466349,
     "sourceType": "datasetVersion"
    },
    {
     "datasetId": 2478,
     "sourceId": 1151655,
     "sourceType": "datasetVersion"
    },
    {
     "datasetId": 10128,
     "sourceId": 5438389,
     "sourceType": "datasetVersion"
    }
   ],
   "isGpuEnabled": false,
   "isInternetEnabled": false,
   "language": "python",
   "sourceType": "notebook"
  },
  "kernelspec": {
   "display_name": "Python 3",
   "language": "python",
   "name": "python3"
  },
  "language_info": {
   "codemirror_mode": {
    "name": "ipython",
    "version": 3
   },
   "file_extension": ".py",
   "mimetype": "text/x-python",
   "name": "python",
   "nbconvert_exporter": "python",
   "pygments_lexer": "ipython3",
   "version": "3.10.14"
  },
  "papermill": {
   "default_parameters": {},
   "duration": 7.017888,
   "end_time": "2024-08-26T16:58:39.325395",
   "environment_variables": {},
   "exception": null,
   "input_path": "__notebook__.ipynb",
   "output_path": "__notebook__.ipynb",
   "parameters": {},
   "start_time": "2024-08-26T16:58:32.307507",
   "version": "2.6.0"
  }
 },
 "nbformat": 4,
 "nbformat_minor": 5
}
